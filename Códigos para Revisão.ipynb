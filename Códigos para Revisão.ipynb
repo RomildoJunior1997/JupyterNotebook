{
 "cells": [
  {
   "cell_type": "code",
   "execution_count": null,
   "id": "84fcb7db",
   "metadata": {},
   "outputs": [],
   "source": [
    "import java.util.Scanner;\n",
    "\n",
    "public class FahrenheitParaCelsius {\n",
    "    public static void main(String[] args) {\n",
    "        Scanner scanner = new Scanner(System.in);\n",
    "        \n",
    "        System.out.print(\"Digite a temperatura em graus Fahrenheit: \");\n",
    "        double fahrenheit = scanner.nextDouble();\n",
    "        \n",
    "        double celsius = (5.0 / 9.0) * (fahrenheit - 32);\n",
    "        \n",
    "        System.out.println(\"A temperatura em graus Celsius é: \" + celsius);\n",
    "    }\n",
    "}"
   ]
  },
  {
   "cell_type": "code",
   "execution_count": null,
   "id": "92f7d6d6",
   "metadata": {},
   "outputs": [],
   "source": [
    "import java.util.Scanner;\n",
    "\n",
    "public class MassaDeArDoPneu {\n",
    "    public static void main(String[] args) {\n",
    "        Scanner scanner = new Scanner(System.in);\n",
    "        \n",
    "        System.out.print(\"Digite a pressão do pneu (P): \");\n",
    "        double pressao = scanner.nextDouble();\n",
    "        \n",
    "        System.out.print(\"Digite o volume do pneu (V): \");\n",
    "        double volume = scanner.nextDouble();\n",
    "        \n",
    "        System.out.print(\"Digite a temperatura do pneu (T): \");\n",
    "        double temperatura = scanner.nextDouble();\n",
    "        \n",
    "        double massaAr = (pressao * volume) / (0.37 * (temperatura + 460));\n",
    "        \n",
    "        System.out.println(\"A massa de ar do pneu é: \" + massaAr);\n",
    "    }\n",
    "}"
   ]
  },
  {
   "cell_type": "code",
   "execution_count": null,
   "id": "b6318906",
   "metadata": {},
   "outputs": [],
   "source": [
    "import java.util.Scanner;\n",
    "\n",
    "public class NTermoPA {\n",
    "    public static void main(String[] args) {\n",
    "        Scanner scanner = new Scanner(System.in);\n",
    "\n",
    "        System.out.print(\"Digite o primeiro termo da PA: \");\n",
    "        int primeiroTermo = scanner.nextInt();\n",
    "\n",
    "        System.out.print(\"Digite a razão da PA: \");\n",
    "        int razao = scanner.nextInt();\n",
    "\n",
    "        System.out.print(\"Digite o número N: \");\n",
    "        int n = scanner.nextInt();\n",
    "\n",
    "        int nesimoTermo = primeiroTermo + (n - 1) * razao;\n",
    "\n",
    "        System.out.println(\"O N-ésimo termo da PA é: \" + nesimoTermo);\n",
    "    }\n",
    "}"
   ]
  }
 ],
 "metadata": {
  "kernelspec": {
   "display_name": "Python 3 (ipykernel)",
   "language": "python",
   "name": "python3"
  },
  "language_info": {
   "codemirror_mode": {
    "name": "ipython",
    "version": 3
   },
   "file_extension": ".py",
   "mimetype": "text/x-python",
   "name": "python",
   "nbconvert_exporter": "python",
   "pygments_lexer": "ipython3",
   "version": "3.10.9"
  }
 },
 "nbformat": 4,
 "nbformat_minor": 5
}
