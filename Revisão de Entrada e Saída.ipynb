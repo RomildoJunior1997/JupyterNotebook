{
 "cells": [
  {
   "cell_type": "code",
   "execution_count": null,
   "id": "a77a1a06",
   "metadata": {},
   "outputs": [],
   "source": [
    "import java.util.Scanner;\n",
    "\n",
    "public class InverterNumeros {\n",
    "    public static void main(String[] args) {\n",
    "        Scanner scanner = new Scanner(System.in);\n",
    "\n",
    "        // Lê os três números\n",
    "        System.out.print(\"Digite o primeiro número: \");\n",
    "        int numero1 = scanner.nextInt();\n",
    "\n",
    "        System.out.print(\"Digite o segundo número: \");\n",
    "        int numero2 = scanner.nextInt();\n",
    "\n",
    "        System.out.print(\"Digite o terceiro número: \");\n",
    "        int numero3 = scanner.nextInt();\n",
    "\n",
    "        // Imprime os números na ordem inversa\n",
    "        System.out.println(\"Ordem inversa dos números:\");\n",
    "        System.out.println(numero3);\n",
    "        System.out.println(numero2);\n",
    "        System.out.println(numero1);\n",
    "    }\n",
    "}"
   ]
  },
  {
   "cell_type": "code",
   "execution_count": null,
   "id": "f5e357a8",
   "metadata": {},
   "outputs": [],
   "source": [
    "public class TrocarValores {\n",
    "    public static void main(String[] args) {\n",
    "        int a = 1;\n",
    "        int b = 2;\n",
    "        int c = 3;\n",
    "        int aux;\n",
    "\n",
    "        aux = a;\n",
    "        a = c;\n",
    "        c = b;\n",
    "        b = aux;\n",
    "\n",
    "        System.out.println(\"O valor de a é: \" + a);\n",
    "        System.out.println(\"O valor de b é: \" + b);\n",
    "        System.out.println(\"O valor de c é: \" + c);\n",
    "    }\n",
    "}"
   ]
  },
  {
   "cell_type": "code",
   "execution_count": null,
   "id": "ce0df61e",
   "metadata": {},
   "outputs": [],
   "source": [
    "import java.util.Scanner;\n",
    "\n",
    "public class ConversaComUsuario {\n",
    "    public static void main(String[] args) {\n",
    "        Scanner scanner = new Scanner(System.in);\n",
    "\n",
    "        System.out.println(\"Olá, eu sou o Nº 1, como é seu nome?\");\n",
    "        String nome = scanner.nextLine();\n",
    "\n",
    "        System.out.println(\"Bem-vindo ao clube, \" + nome + \"!\");\n",
    "    }\n",
    "}"
   ]
  },
  {
   "cell_type": "code",
   "execution_count": null,
   "id": "d09e0507",
   "metadata": {},
   "outputs": [],
   "source": [
    "import java.util.Scanner;\n",
    "\n",
    "public class DiasDeVida {\n",
    "    public static void main(String[] args) {\n",
    "        Scanner scanner = new Scanner(System.in);\n",
    "\n",
    "        System.out.print(\"Digite seu nome: \");\n",
    "        String nome = scanner.nextLine();\n",
    "\n",
    "        System.out.print(\"Digite sua idade: \");\n",
    "        int idade = scanner.nextInt();\n",
    "\n",
    "        int diasDeVida = idade * 365;\n",
    "\n",
    "        System.out.println(nome + \", você tem aproximadamente \" + diasDeVida + \" dias de vida.\");\n",
    "    }\n",
    "}"
   ]
  },
  {
   "cell_type": "code",
   "execution_count": null,
   "id": "d43eec07",
   "metadata": {},
   "outputs": [],
   "source": [
    "import java.util.Scanner;\n",
    "\n",
    "public class CalcularAreaCirculo {\n",
    "    public static void main(String[] args) {\n",
    "        Scanner scanner = new Scanner(System.in);\n",
    "\n",
    "        System.out.print(\"Digite o raio do círculo: \");\n",
    "        double raio = scanner.nextDouble();\n",
    "\n",
    "        double area = Math.PI * raio * raio;\n",
    "\n",
    "        System.out.println(\"A área do círculo é: \" + area);\n",
    "    }\n",
    "}"
   ]
  },
  {
   "cell_type": "code",
   "execution_count": null,
   "id": "5d7977d0",
   "metadata": {},
   "outputs": [],
   "source": [
    "import java.util.Scanner;\n",
    "\n",
    "public class CalcularQuantidadeTinta {\n",
    "    public static void main(String[] args) {\n",
    "        Scanner scanner = new Scanner(System.in);\n",
    "\n",
    "        System.out.print(\"Digite a largura da parede em metros: \");\n",
    "        double largura = scanner.nextDouble();\n",
    "\n",
    "        System.out.print(\"Digite a altura da parede em metros: \");\n",
    "        double altura = scanner.nextDouble();\n",
    "\n",
    "        double area = largura * altura;\n",
    "        double consumoTinta = 0.3; \n",
    "        double capacidadeLata = 2.0;\n",
    "\n",
    "        double quantidadeLatas = Math.ceil((area * consumoTinta) / capacidadeLata);\n",
    "\n",
    "        System.out.println(\"Quantidade de latas de tinta necessárias: \" + quantidadeLatas);\n",
    "    }\n",
    "}"
   ]
  }
 ],
 "metadata": {
  "kernelspec": {
   "display_name": "Python 3 (ipykernel)",
   "language": "python",
   "name": "python3"
  },
  "language_info": {
   "codemirror_mode": {
    "name": "ipython",
    "version": 3
   },
   "file_extension": ".py",
   "mimetype": "text/x-python",
   "name": "python",
   "nbconvert_exporter": "python",
   "pygments_lexer": "ipython3",
   "version": "3.10.9"
  }
 },
 "nbformat": 4,
 "nbformat_minor": 5
}
